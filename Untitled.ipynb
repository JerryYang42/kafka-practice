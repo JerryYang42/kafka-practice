{
 "cells": [
  {
   "cell_type": "code",
   "execution_count": null,
   "id": "4ac38595-daf7-4eae-85c1-7148a99c6a7c",
   "metadata": {},
   "outputs": [
    {
     "name": "stdout",
     "output_type": "stream",
     "text": [
      "Created the producer\n",
      "connected to Kafka\n",
      "available topics are:  {'first-topic': TopicMetadata(first-topic, 3 partitions), '__consumer_offsets': TopicMetadata(__consumer_offsets, 50 partitions)}\n"
     ]
    }
   ],
   "source": [
    "from confluent_kafka import Producer, KafkaError\n",
    "producer = Producer({'bootstrap.servers': 'localhost:9092'})\n",
    "print(\"Created the producer\")\n",
    "try:\n",
    "    metadata=producer.list_topics(timeout=5)\n",
    "    print(\"connected to Kafka\")\n",
    "    print(\"available topics are: \",metadata.topics)\n",
    "except Exception as e:\n",
    "    print(\"Error connecting to Kafka\",e)\n",
    "    exit(1)"
   ]
  },
  {
   "cell_type": "code",
   "execution_count": 3,
   "id": "ef7f55e5",
   "metadata": {},
   "outputs": [
    {
     "name": "stdout",
     "output_type": "stream",
     "text": [
      "Failed to create topic first-topic: KafkaError{code=TOPIC_ALREADY_EXISTS,val=36,str=\"Topic 'first-topic' already exists.\"}\n"
     ]
    }
   ],
   "source": [
    "from confluent_kafka.admin import AdminClient, NewTopic\n",
    "topic_name = \"first-topic\"\n",
    "num_partitions = 3\n",
    "replication_factor = 1\n",
    "\n",
    "def create_new_topic(topic_name: str, num_partitions: int, replication_factor):\n",
    "    admin_client = AdminClient({'bootstrap.servers': 'localhost:9092'})\n",
    "    new_topic = NewTopic(topic=topic_name, num_partitions=num_partitions, replication_factor=replication_factor)\n",
    "    try:\n",
    "        futures = admin_client.create_topics([new_topic])\n",
    "        for (topic, futures) in futures.items():\n",
    "            try:\n",
    "                futures.result()\n",
    "                print(\"Topic {} created\".format(topic))\n",
    "            except Exception as e:\n",
    "                print(\"Failed to create topic {}: {}\".format(topic, e))\n",
    "    except Exception as e:\n",
    "        print(\"Error creating topic: {}\".format(e))\n",
    "        return\n",
    "create_new_topic(topic_name, num_partitions, replication_factor)\n"
   ]
  },
  {
   "cell_type": "code",
   "execution_count": 4,
   "id": "635d30fc",
   "metadata": {},
   "outputs": [
    {
     "name": "stdout",
     "output_type": "stream",
     "text": [
      " There is an error\n",
      "shutting down the Consumer\n"
     ]
    }
   ],
   "source": [
    "from confluent_kafka import Consumer\n",
    "import json\n",
    "conf={'bootstrap.servers':'localhost:9092',\n",
    "      'group.id':'order_consumer_group',\n",
    "      'auto.offset.reset':'earliest'}\n",
    "consumer=Consumer(conf)\n",
    "consumer.subscribe(['orders'])\n",
    "try:\n",
    "    while True:\n",
    "        msg=consumer.poll(1.0)\n",
    " \n",
    "        if msg is None:\n",
    "            continue\n",
    "        if msg.error():\n",
    "            print(\" There is an error\")\n",
    "            continue\n",
    "        try:\n",
    "            order=json.loads(msg.value())\n",
    "            print(order['order_id'])\n",
    "        except json.JSONDecodeError as e:\n",
    "            print(\"faile in reading the message\",e)\n",
    "except KeyboardInterrupt:\n",
    "    print(\"shutting down the Consumer\")\n",
    "finally:\n",
    "    consumer.close()"
   ]
  },
  {
   "cell_type": "code",
   "execution_count": null,
   "id": "262c9656",
   "metadata": {},
   "outputs": [],
   "source": []
  }
 ],
 "metadata": {
  "kernelspec": {
   "display_name": ".venv",
   "language": "python",
   "name": "python3"
  },
  "language_info": {
   "codemirror_mode": {
    "name": "ipython",
    "version": 3
   },
   "file_extension": ".py",
   "mimetype": "text/x-python",
   "name": "python",
   "nbconvert_exporter": "python",
   "pygments_lexer": "ipython3",
   "version": "3.12.5"
  }
 },
 "nbformat": 4,
 "nbformat_minor": 5
}
